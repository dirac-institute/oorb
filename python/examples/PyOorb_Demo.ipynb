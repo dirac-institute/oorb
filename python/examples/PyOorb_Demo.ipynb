{
 "cells": [
  {
   "cell_type": "markdown",
   "metadata": {},
   "source": [
    "This example notebook was originally developed by Lynne Jones (@rhiannonlynne) and subsequently updated.\n",
    "\n",
    "**This notebook is currently under revision and not working properly. Please refer to the examples provided in the documentation for now.**"
   ]
  },
  {
   "cell_type": "code",
   "execution_count": 1,
   "metadata": {},
   "outputs": [],
   "source": [
    "import os\n",
    "import numpy as np\n",
    "import pyoorb as oo"
   ]
  },
  {
   "cell_type": "markdown",
   "metadata": {},
   "source": [
    "### Initialize Oorb"
   ]
  },
  {
   "cell_type": "code",
   "execution_count": 5,
   "metadata": {},
   "outputs": [
    {
     "data": {
      "text/plain": [
       "1"
      ]
     },
     "execution_count": 5,
     "metadata": {},
     "output_type": "execute_result"
    }
   ],
   "source": [
    "# Initialize oorb\n",
    "ephfile = os.path.join(os.getenv('OORB_DATA'), 'de430.dat')\n",
    "oo.pyoorb.oorb_init(ephfile)"
   ]
  },
  {
   "cell_type": "code",
   "execution_count": null,
   "metadata": {},
   "outputs": [],
   "source": [
    "timeScales = {'UTC': 1, 'UT1': 2, 'TT': 3, 'TAI': 4}\n",
    "elemType = {'CART': 1, 'COM': 2, 'KEP': 3, 'DEL': 4, 'EQX': 5}"
   ]
  },
  {
   "cell_type": "markdown",
   "metadata": {},
   "source": [
    "### Read in some orbits."
   ]
  },
  {
   "cell_type": "code",
   "execution_count": null,
   "metadata": {},
   "outputs": [],
   "source": [
    "# Set up some orbits\n",
    "# orb is id, 6 elements, epoch_mjd, H, G, element type index\n",
    "# keplerian appears to be element type index 3\n",
    "# orbits = numpy.array([0.,1.,2.,3.,4.,5.,6.,5373.,1.,1.,3.])\n",
    "o = np.loadtxt('test.des', dtype=([('objid', np.str_, 20), ('format', np.str_, 3),\n",
    "                                   ('q', float), ('e', float), ('inc', float), ('Omega', float),\n",
    "                                   ('argperi', float), ('tperi', float), ('H', float), ('epoch', float),\n",
    "                                   ('index', int), ('npar', int), ('moid', float), ('compcode', np.str_, 10)]),\n",
    "               skiprows=1)\n",
    "\n",
    "orbits = np.zeros([len(o), 12], dtype=np.double, order='F')\n",
    "orbits[:, 0] = np.arange(0, len(o), 1, dtype=float)\n",
    "orbits[:, 1] = o['q']\n",
    "orbits[:, 2] = o['e']\n",
    "orbits[:, 3] = o['inc']\n",
    "orbits[:, 4] = o['Omega']\n",
    "orbits[:, 5] = o['argperi']\n",
    "orbits[:, 6] = o['tperi']\n",
    "orbits[:, 7] = np.zeros(len(o), float) + elemType['COM']\n",
    "orbits[:, 8] = o['epoch']\n",
    "orbits[:, 9] = np.zeros(len(o), float) + timeScales['TT']\n",
    "orbits[:, 10] = o['H']\n",
    "orbits[:, 11] = np.zeros(len(o)) + 0.15\n",
    "for i in range(3, 6):\n",
    "    orbits[:, i] = np.radians(orbits[:, i])"
   ]
  },
  {
   "cell_type": "code",
   "execution_count": null,
   "metadata": {},
   "outputs": [],
   "source": [
    "orbits"
   ]
  },
  {
   "cell_type": "markdown",
   "metadata": {},
   "source": [
    "### Generate ephemerides\n",
    "\n",
    "This does n-body propagation to the series of times specified."
   ]
  },
  {
   "cell_type": "code",
   "execution_count": null,
   "metadata": {},
   "outputs": [],
   "source": [
    "offset = 30.\n",
    "times = [orbits[0][8], orbits[0][8] + offset]\n",
    "timescale = [timeScales['UTC']] * len(times)\n",
    "ephem_dates = np.array(list(zip(times, timescale)), dtype=np.double, order='F')\n",
    "ephs, err = oo.pyoorb.oorb_ephemeris_full(in_orbits=orbits,\n",
    "                                          in_obscode='I11',\n",
    "                                          in_date_ephems=ephem_dates,\n",
    "                                          in_dynmodel='N')\n",
    "if err != 0:\n",
    "    print(err)"
   ]
  },
  {
   "cell_type": "code",
   "execution_count": null,
   "metadata": {},
   "outputs": [],
   "source": [
    "i = 0\n",
    "start = ephs[i][0]\n",
    "end = ephs[i][1]\n",
    "print(\"@ %f\" % (ephem_dates[0][0]), start)\n",
    "print(\"@ %f\" % (ephem_dates[1][0]), end)"
   ]
  },
  {
   "cell_type": "markdown",
   "metadata": {},
   "source": [
    "### Transform orbital elements"
   ]
  },
  {
   "cell_type": "code",
   "execution_count": null,
   "metadata": {},
   "outputs": [],
   "source": [
    "type2 = 'CART'\n",
    "print(\"Transforming from COM to %s\" % (type2))\n",
    "newElems, err = oo.pyoorb.oorb_element_transformation(in_orbits=orbits, in_element_type=elemType[type2])\n",
    "if err != 0:\n",
    "    print(\"error\", err)\n",
    "print(\"Input and output orbital elements (COM / CART)\")\n",
    "print(\"in \", orbits[i])\n",
    "print(\"out\", newElems[i])"
   ]
  },
  {
   "cell_type": "code",
   "execution_count": null,
   "metadata": {},
   "outputs": [],
   "source": [
    "print(\"Transforming back from %s to COM\" % (type2))\n",
    "newElems2, err = oo.pyoorb.oorb_element_transformation(in_orbits=newElems, in_element_type=elemType['COM'])\n",
    "if err != 0:\n",
    "    print(\"error\", err)\n",
    "print(\"Input and output orbital elements (CART / COM)\")\n",
    "print(\"in \", newElems[i])\n",
    "print(\"out\", newElems2[i])"
   ]
  },
  {
   "cell_type": "code",
   "execution_count": null,
   "metadata": {},
   "outputs": [],
   "source": [
    "print('Differences in the initial/final COM orb elements')\n",
    "diffs = newElems2 - orbits\n",
    "print(diffs)"
   ]
  },
  {
   "cell_type": "markdown",
   "metadata": {},
   "source": [
    "There can be larger differences in the tPeri, as this is degenerate (previous or next orbit?). "
   ]
  },
  {
   "cell_type": "markdown",
   "metadata": {},
   "source": [
    "### Propagate orbits\n",
    "\n",
    "You can do both n-body and 2-body propagation (swap `in_dynmodel` from `'N'` to `'2'`). \n",
    "At the moment, oorb\\_propagation\\* crashes if you use anything other than CART (cartesian) elements. So transform first."
   ]
  },
  {
   "cell_type": "code",
   "execution_count": null,
   "metadata": {},
   "outputs": [],
   "source": [
    "print(\"Propagating orbits by %d days\" % (offset))\n",
    "epoch_orig = orbits[i][8]\n",
    "epoch_new = epoch_orig + offset\n",
    "newEpoch = np.array([epoch_new, timeScales['TT']], dtype='double', order='F')\n",
    "# Note that currently you have to use CART format elements.\n",
    "elems = newElems\n",
    "newOorbElems, err = oo.pyoorb.oorb_propagation_nb(in_orbits=elems, in_epoch=newEpoch)\n",
    "if err != 0:\n",
    "    print(\"error\", err)\n",
    "print(\"Input and output orbital elements (0 and %d days)\" % (offset))\n",
    "print(\"in \", orbits[i])\n",
    "print(\"out\", newOorbElems[i])"
   ]
  },
  {
   "cell_type": "code",
   "execution_count": null,
   "metadata": {},
   "outputs": [],
   "source": [
    "print(\"Transforming new orbital elements to COM\")\n",
    "newElems3, err = oo.pyoorb.oorb_element_transformation(in_orbits=newOorbElems, in_element_type=elemType['COM'])\n",
    "if err != 0:\n",
    "    print(\"error\", err)\n",
    "print(\"Input and output orbital elements (CART/COM)\")\n",
    "print(\"in \", orbits[i])\n",
    "print(\"out\", newElems3[i])\n",
    "print('epoch', epoch_new, newElems3[i][8])"
   ]
  },
  {
   "cell_type": "code",
   "execution_count": null,
   "metadata": {},
   "outputs": [],
   "source": [
    "# Generate ephemerides with these new elements, to compare.\n",
    "ephs2, err = oo.pyoorb.oorb_ephemeris(in_orbits=newElems3, in_obscode='I11',\n",
    "                                     in_date_ephems=ephem_dates)\n",
    "for i in range(len(newElems3)):\n",
    "    print('Object %d' % i)\n",
    "    print(' Orbit: ', orbits[i] )\n",
    "    diffs = ephs[i] - ephs2[i]\n",
    "    #print(\"Difference in ephemerides from ephemeris generation vs propagation + ephemeris generation\")\n",
    "    #print(diffs)\n",
    "    print(\"Just difference in mas in RA and then Dec\")\n",
    "    deltaRA = diffs[:,1] * 3600. * 1000.\n",
    "    deltaDec = diffs[:,2] * 3600. * 1000.\n",
    "    print(' ', deltaRA, deltaDec)"
   ]
  },
  {
   "cell_type": "markdown",
   "metadata": {},
   "source": [
    "Note that the difference can change depending on the length of time in 'offset'. Needs a bit further investigation, but I suspect this is due to the timescale of integration hard-coded into the different routines (?). "
   ]
  },
  {
   "cell_type": "code",
   "execution_count": null,
   "metadata": {},
   "outputs": [],
   "source": []
  }
 ],
 "metadata": {
  "kernelspec": {
   "display_name": "Python 3",
   "language": "python",
   "name": "python3"
  },
  "language_info": {
   "codemirror_mode": {
    "name": "ipython",
    "version": 3
   },
   "file_extension": ".py",
   "mimetype": "text/x-python",
   "name": "python",
   "nbconvert_exporter": "python",
   "pygments_lexer": "ipython3",
   "version": "3.6.4"
  }
 },
 "nbformat": 4,
 "nbformat_minor": 2
}
